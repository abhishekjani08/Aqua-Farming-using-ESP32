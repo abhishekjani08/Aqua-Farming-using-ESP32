{
 "cells": [
  {
   "cell_type": "code",
   "execution_count": 1,
   "id": "50cfb790-4d19-4703-8c8b-c1b511d4bfbf",
   "metadata": {
    "tags": []
   },
   "outputs": [],
   "source": [
    "import pandas as pd\n",
    "import numpy as np \n",
    "import seaborn as sns\n",
    "import matplotlib.pyplot as plt \n",
    "%matplotlib inline\n",
    "from sklearn.model_selection import train_test_split "
   ]
  },
  {
   "cell_type": "code",
   "execution_count": 2,
   "id": "ca90f9f3-a316-456d-a4c8-fed9446edb6c",
   "metadata": {
    "tags": []
   },
   "outputs": [
    {
     "data": {
      "text/html": [
       "<div>\n",
       "<style scoped>\n",
       "    .dataframe tbody tr th:only-of-type {\n",
       "        vertical-align: middle;\n",
       "    }\n",
       "\n",
       "    .dataframe tbody tr th {\n",
       "        vertical-align: top;\n",
       "    }\n",
       "\n",
       "    .dataframe thead th {\n",
       "        text-align: right;\n",
       "    }\n",
       "</style>\n",
       "<table border=\"1\" class=\"dataframe\">\n",
       "  <thead>\n",
       "    <tr style=\"text-align: right;\">\n",
       "      <th></th>\n",
       "      <th>DO</th>\n",
       "      <th>pH</th>\n",
       "      <th>Temperature</th>\n",
       "      <th>Ammonia</th>\n",
       "      <th>Nitrite Nitrogen</th>\n",
       "      <th>Carbon Dioxide</th>\n",
       "      <th>Salinity</th>\n",
       "      <th>Health</th>\n",
       "    </tr>\n",
       "  </thead>\n",
       "  <tbody>\n",
       "    <tr>\n",
       "      <th>0</th>\n",
       "      <td>3.7</td>\n",
       "      <td>7.9</td>\n",
       "      <td>28</td>\n",
       "      <td>0.3</td>\n",
       "      <td>1</td>\n",
       "      <td>2.3</td>\n",
       "      <td>14.8</td>\n",
       "      <td>1</td>\n",
       "    </tr>\n",
       "    <tr>\n",
       "      <th>1</th>\n",
       "      <td>3.0</td>\n",
       "      <td>6.1</td>\n",
       "      <td>32</td>\n",
       "      <td>0.2</td>\n",
       "      <td>1</td>\n",
       "      <td>9.1</td>\n",
       "      <td>17.0</td>\n",
       "      <td>0</td>\n",
       "    </tr>\n",
       "    <tr>\n",
       "      <th>2</th>\n",
       "      <td>3.6</td>\n",
       "      <td>8.5</td>\n",
       "      <td>27</td>\n",
       "      <td>0.8</td>\n",
       "      <td>1</td>\n",
       "      <td>5.7</td>\n",
       "      <td>18.9</td>\n",
       "      <td>1</td>\n",
       "    </tr>\n",
       "    <tr>\n",
       "      <th>3</th>\n",
       "      <td>2.6</td>\n",
       "      <td>6.2</td>\n",
       "      <td>32</td>\n",
       "      <td>0.6</td>\n",
       "      <td>1</td>\n",
       "      <td>8.4</td>\n",
       "      <td>10.2</td>\n",
       "      <td>0</td>\n",
       "    </tr>\n",
       "    <tr>\n",
       "      <th>4</th>\n",
       "      <td>4.0</td>\n",
       "      <td>8.5</td>\n",
       "      <td>31</td>\n",
       "      <td>0.3</td>\n",
       "      <td>1</td>\n",
       "      <td>9.8</td>\n",
       "      <td>13.5</td>\n",
       "      <td>1</td>\n",
       "    </tr>\n",
       "  </tbody>\n",
       "</table>\n",
       "</div>"
      ],
      "text/plain": [
       "    DO   pH  Temperature  Ammonia  Nitrite Nitrogen  Carbon Dioxide  Salinity  \\\n",
       "0  3.7  7.9           28      0.3                 1             2.3      14.8   \n",
       "1  3.0  6.1           32      0.2                 1             9.1      17.0   \n",
       "2  3.6  8.5           27      0.8                 1             5.7      18.9   \n",
       "3  2.6  6.2           32      0.6                 1             8.4      10.2   \n",
       "4  4.0  8.5           31      0.3                 1             9.8      13.5   \n",
       "\n",
       "   Health  \n",
       "0       1  \n",
       "1       0  \n",
       "2       1  \n",
       "3       0  \n",
       "4       1  "
      ]
     },
     "execution_count": 2,
     "metadata": {},
     "output_type": "execute_result"
    }
   ],
   "source": [
    "data = pd.read_csv('./Aqua.csv')\n",
    "data.head()"
   ]
  },
  {
   "cell_type": "code",
   "execution_count": 3,
   "id": "87999c8b-84a1-4d55-8bdb-ba58b44b49f4",
   "metadata": {},
   "outputs": [
    {
     "name": "stdout",
     "output_type": "stream",
     "text": [
      "[1 0 1 ... 0 0 1]\n"
     ]
    }
   ],
   "source": [
    "Y=data.iloc[:,7].values\n",
    "print(Y)"
   ]
  },
  {
   "cell_type": "code",
   "execution_count": 20,
   "id": "2bbc771b-8c14-4df5-8cb9-b278379493d7",
   "metadata": {},
   "outputs": [],
   "source": [
    "X=data"
   ]
  },
  {
   "cell_type": "code",
   "execution_count": 21,
   "id": "a73d585c-910f-452a-a49c-4400f7adbe8b",
   "metadata": {
    "tags": []
   },
   "outputs": [
    {
     "data": {
      "text/plain": [
       "array([1, 0, 1, ..., 0, 0, 1], dtype=int64)"
      ]
     },
     "execution_count": 21,
     "metadata": {},
     "output_type": "execute_result"
    }
   ],
   "source": [
    "from sklearn.model_selection import train_test_split\n",
    "X_train,X_test,Y_train,Y_test=train_test_split(X,Y,test_size=0.3,random_state=7)\n",
    "Y"
   ]
  },
  {
   "cell_type": "code",
   "execution_count": 25,
   "id": "d8d347ae-afec-4127-b56d-d8915ba090cd",
   "metadata": {
    "tags": []
   },
   "outputs": [
    {
     "name": "stdout",
     "output_type": "stream",
     "text": [
      "100.0\n"
     ]
    }
   ],
   "source": [
    "from sklearn.ensemble import AdaBoostClassifier\n",
    "from sklearn.metrics import accuracy_score\n",
    "# from sklearn.metrics import plot_confusion_matrix\n",
    "model = AdaBoostClassifier(n_estimators=99,learning_rate=1)\n",
    "model.fit(X_train,Y_train)\n",
    "Y_pred=model.predict(X_test)\n",
    "ada_acc=accuracy_score(Y_test,Y_pred)*100\n",
    "print(ada_acc)\n",
    "# plot_confusion_matrix(model, X_test, Y_test) \n",
    "\n",
    "# # Custom Input 1\n",
    "# features = np.array([[200000,20993.0,41.000000,3,6.0,3,3.0,3.0,1.0,1,2,1,0.0,1,3,1.0,3,1,3]])\n",
    "# Y_pred=model.predict(features)\n",
    "# if(Y_pred == 1):\n",
    "#     print(\"Person is likely to buy the package\")\n",
    "# else:\n",
    "#     print(\"Person is less likely to buy the package\")\n",
    "\n",
    "# # Custom Input 2    \n",
    "# features = np.array([[200001,20130.0,49.000000,1,14.0,3,4.0,4.0,2.0,0,3,1,2.0,0,3,2.0,3,2,3]])\n",
    "# Y_pred=model.predict(features)\n",
    "# if(Y_pred == 1):\n",
    "#     print(\"Person is likely to buy the package\")\n",
    "# else:\n",
    "#     print(\"Person is less likely to buy the package\")\n"
   ]
  },
  {
   "cell_type": "code",
   "execution_count": 26,
   "id": "52755644-3638-4e3c-96d1-428aae4ee8ac",
   "metadata": {
    "tags": []
   },
   "outputs": [
    {
     "name": "stdout",
     "output_type": "stream",
     "text": [
      "(3569, 7)\n",
      "[0 1 1 ... 0 1 0]\n",
      "75.0326797385621\n"
     ]
    }
   ],
   "source": [
    "from sklearn.linear_model import LogisticRegression\n",
    "from sklearn.metrics import accuracy_score\n",
    "model=LogisticRegression()\n",
    "model.fit(X_train,Y_train)\n",
    "print(X_train.shape)\n",
    "Y_pred=model.predict(X_test)\n",
    "print(Y_pred)\n",
    "Logi_acc=accuracy_score(Y_test,Y_pred)*100\n",
    "print(Logi_acc)\n"
   ]
  },
  {
   "cell_type": "code",
   "execution_count": 27,
   "id": "44818c77-305b-42fb-b324-226554f4bc2d",
   "metadata": {
    "tags": []
   },
   "outputs": [
    {
     "name": "stdout",
     "output_type": "stream",
     "text": [
      "[1 1 0 ... 1 1 1]\n"
     ]
    },
    {
     "data": {
      "text/plain": [
       "97.38562091503267"
      ]
     },
     "execution_count": 27,
     "metadata": {},
     "output_type": "execute_result"
    }
   ],
   "source": [
    "#Naive bayes\n",
    "from sklearn.naive_bayes import GaussianNB\n",
    "model= GaussianNB()\n",
    "model.fit(X_train,Y_train)\n",
    "# print(X_test[1])\n",
    "# print(X_test)\n",
    "# print(X_test[0].reshape(1,-1))\n",
    "\n",
    "Y_pred= model.predict(X_test)\n",
    "print(Y_pred)\n",
    "NB_acc=accuracy_score(Y_test,Y_pred)*100\n",
    "NB_acc"
   ]
  },
  {
   "cell_type": "code",
   "execution_count": 28,
   "id": "b7cc59b5-8711-4e13-8de8-18fbf00d7b2b",
   "metadata": {
    "tags": []
   },
   "outputs": [
    {
     "name": "stdout",
     "output_type": "stream",
     "text": [
      "[1 0 1 ... 0 0 1]\n"
     ]
    },
    {
     "data": {
      "text/plain": [
       "79.6078431372549"
      ]
     },
     "execution_count": 28,
     "metadata": {},
     "output_type": "execute_result"
    }
   ],
   "source": [
    "#SVM\n",
    "from sklearn.svm import SVC\n",
    "model=SVC(kernel=\"linear\")  #sometimes kernal= poly or \"rbf\"\n",
    "model.fit(X_train,Y_train)\n",
    "Y_pred= model.predict(X_test)\n",
    "print(Y)\n",
    "SVC_acc=accuracy_score(Y_test,Y_pred)*100\n",
    "SVC_acc"
   ]
  },
  {
   "cell_type": "code",
   "execution_count": 29,
   "id": "cbdb7902-32b0-4125-9360-3c7b3197e4ed",
   "metadata": {
    "tags": []
   },
   "outputs": [
    {
     "name": "stdout",
     "output_type": "stream",
     "text": [
      "[1 1 0 ... 1 1 1]\n"
     ]
    },
    {
     "data": {
      "text/plain": [
       "99.93464052287581"
      ]
     },
     "execution_count": 29,
     "metadata": {},
     "output_type": "execute_result"
    }
   ],
   "source": [
    "#RandomForest\n",
    "from sklearn.ensemble import RandomForestClassifier\n",
    "model=RandomForestClassifier(n_estimators=100)\n",
    "model.fit(X_train,Y_train)\n",
    "Y_pred= model.predict(X_test)\n",
    "print(Y_pred)\n",
    "RandFor_acc=accuracy_score(Y_test,Y_pred)*100\n",
    "RandFor_acc"
   ]
  },
  {
   "cell_type": "code",
   "execution_count": 30,
   "id": "2a5ad260-0548-4021-a8cd-48339f30fc8d",
   "metadata": {
    "tags": []
   },
   "outputs": [
    {
     "name": "stdout",
     "output_type": "stream",
     "text": [
      "[1 1 1 ... 1 1 1]\n"
     ]
    },
    {
     "data": {
      "text/plain": [
       "95.55555555555556"
      ]
     },
     "execution_count": 30,
     "metadata": {},
     "output_type": "execute_result"
    }
   ],
   "source": [
    "#KNN\n",
    "from sklearn.neighbors import KNeighborsClassifier\n",
    "model=KNeighborsClassifier(n_neighbors=3)\n",
    "model.fit(X_train,Y_train)\n",
    "Y_pred=model.predict(X_test)\n",
    "print(Y_pred)\n",
    "KNN_acc=accuracy_score(Y_test,Y_pred)*100\n",
    "KNN_acc"
   ]
  },
  {
   "cell_type": "code",
   "execution_count": 31,
   "id": "93796a69-ee6f-42c4-92f1-c4253e432f7e",
   "metadata": {
    "tags": []
   },
   "outputs": [
    {
     "name": "stdout",
     "output_type": "stream",
     "text": [
      "[1 1 0 ... 1 1 1]\n"
     ]
    },
    {
     "data": {
      "text/plain": [
       "99.93464052287581"
      ]
     },
     "execution_count": 31,
     "metadata": {},
     "output_type": "execute_result"
    }
   ],
   "source": [
    "#decision tree\n",
    "from sklearn.tree import DecisionTreeClassifier\n",
    "model=DecisionTreeClassifier()\n",
    "model.fit(X_train,Y_train)\n",
    "Y_pred= model.predict(X_test)\n",
    "print(Y_pred)\n",
    "DeciTr_acc=accuracy_score(Y_test,Y_pred)*100\n",
    "DeciTr_acc"
   ]
  },
  {
   "cell_type": "code",
   "execution_count": 32,
   "id": "413a172b-d7d2-4dbe-91b9-ade192081749",
   "metadata": {
    "tags": []
   },
   "outputs": [
    {
     "data": {
      "text/html": [
       "<div>\n",
       "<style scoped>\n",
       "    .dataframe tbody tr th:only-of-type {\n",
       "        vertical-align: middle;\n",
       "    }\n",
       "\n",
       "    .dataframe tbody tr th {\n",
       "        vertical-align: top;\n",
       "    }\n",
       "\n",
       "    .dataframe thead th {\n",
       "        text-align: right;\n",
       "    }\n",
       "</style>\n",
       "<table border=\"1\" class=\"dataframe\">\n",
       "  <thead>\n",
       "    <tr style=\"text-align: right;\">\n",
       "      <th></th>\n",
       "      <th>Models</th>\n",
       "      <th>Accuracy score</th>\n",
       "    </tr>\n",
       "  </thead>\n",
       "  <tbody>\n",
       "    <tr>\n",
       "      <th>4</th>\n",
       "      <td>Random-Forest Classifier</td>\n",
       "      <td>99.934641</td>\n",
       "    </tr>\n",
       "    <tr>\n",
       "      <th>5</th>\n",
       "      <td>DecisionTreeClassifier</td>\n",
       "      <td>99.934641</td>\n",
       "    </tr>\n",
       "    <tr>\n",
       "      <th>2</th>\n",
       "      <td>GaussianNB</td>\n",
       "      <td>97.385621</td>\n",
       "    </tr>\n",
       "    <tr>\n",
       "      <th>1</th>\n",
       "      <td>KNeighbor Classifier</td>\n",
       "      <td>95.555556</td>\n",
       "    </tr>\n",
       "    <tr>\n",
       "      <th>3</th>\n",
       "      <td>Supprt Vectro Machine</td>\n",
       "      <td>79.607843</td>\n",
       "    </tr>\n",
       "    <tr>\n",
       "      <th>0</th>\n",
       "      <td>Logistic Regression</td>\n",
       "      <td>75.032680</td>\n",
       "    </tr>\n",
       "  </tbody>\n",
       "</table>\n",
       "</div>"
      ],
      "text/plain": [
       "                     Models  Accuracy score\n",
       "4  Random-Forest Classifier       99.934641\n",
       "5    DecisionTreeClassifier       99.934641\n",
       "2                GaussianNB       97.385621\n",
       "1      KNeighbor Classifier       95.555556\n",
       "3     Supprt Vectro Machine       79.607843\n",
       "0       Logistic Regression       75.032680"
      ]
     },
     "execution_count": 32,
     "metadata": {},
     "output_type": "execute_result"
    }
   ],
   "source": [
    "# all models with accuracy score\n",
    "\n",
    "models=pd.DataFrame({'Models':['Logistic Regression','KNeighbor Classifier','GaussianNB','Supprt Vectro Machine','Random-Forest Classifier','DecisionTreeClassifier'],\n",
    "                     'Accuracy score':[Logi_acc,KNN_acc,NB_acc,SVC_acc,RandFor_acc,DeciTr_acc]})\n",
    "models.sort_values(by=\"Accuracy score\",ascending=False)"
   ]
  },
  {
   "cell_type": "code",
   "execution_count": 35,
   "id": "84ae115f-16c8-41ba-bc54-7103cdd18c4c",
   "metadata": {
    "tags": []
   },
   "outputs": [
    {
     "name": "stdout",
     "output_type": "stream",
     "text": [
      "Health is not good!!!\n"
     ]
    },
    {
     "name": "stderr",
     "output_type": "stream",
     "text": [
      "C:\\Users\\student\\AppData\\Local\\Programs\\Python\\Python311\\Lib\\site-packages\\sklearn\\base.py:420: UserWarning: X does not have valid feature names, but DecisionTreeClassifier was fitted with feature names\n",
      "  warnings.warn(\n"
     ]
    }
   ],
   "source": [
    "# Custom Input 1\n",
    "features = np.array([[3.2,6.4,30,0.2,1,3.3,12.9]])\n",
    "Y_pred=model.predict(features)\n",
    "if(Y_pred == 1):\n",
    "    print(\"Health is Good!!\")\n",
    "else:\n",
    "    print(\"Health is not good!!!\")\n"
   ]
  },
  {
   "cell_type": "code",
   "execution_count": null,
   "id": "87120b58-9eba-4e17-bc43-b02dae9691c0",
   "metadata": {},
   "outputs": [],
   "source": []
  },
  {
   "cell_type": "code",
   "execution_count": null,
   "id": "a7b949dc-e737-4671-b861-f98943feb000",
   "metadata": {},
   "outputs": [],
   "source": []
  }
 ],
 "metadata": {
  "kernelspec": {
   "display_name": "Python 3 (ipykernel)",
   "language": "python",
   "name": "python3"
  },
  "language_info": {
   "codemirror_mode": {
    "name": "ipython",
    "version": 3
   },
   "file_extension": ".py",
   "mimetype": "text/x-python",
   "name": "python",
   "nbconvert_exporter": "python",
   "pygments_lexer": "ipython3",
   "version": "3.11.2"
  }
 },
 "nbformat": 4,
 "nbformat_minor": 5
}
